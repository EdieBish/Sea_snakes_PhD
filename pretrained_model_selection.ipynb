{
 "cells": [
  {
   "cell_type": "code",
   "execution_count": 26,
   "id": "79755364",
   "metadata": {},
   "outputs": [],
   "source": [
    "# Imports\n",
    "import tensorflow as tf\n",
    "import tensorflow_datasets as tfds\n",
    "import pandas as pd\n",
    "import matplotlib.pyplot as plt\n",
    "import inspect\n",
    "from tqdm import tqdm\n",
    "\n",
    "# Set batch size for training and validation\n",
    "batch_size = 16"
   ]
  },
  {
   "cell_type": "code",
   "execution_count": 27,
   "id": "c8bdbba1",
   "metadata": {},
   "outputs": [
    {
     "name": "stdout",
     "output_type": "stream",
     "text": [
      "['In', 'Out', '_', '__', '___', '__builtin__', '__builtins__', '__doc__', '__loader__', '__name__', '__package__', '__spec__', '_dh', '_i', '_i1', '_i10', '_i11', '_i12', '_i13', '_i14', '_i15', '_i16', '_i17', '_i18', '_i19', '_i2', '_i20', '_i21', '_i22', '_i23', '_i24', '_i25', '_i26', '_i27', '_i3', '_i4', '_i5', '_i6', '_i7', '_i8', '_i9', '_ih', '_ii', '_iii', '_oh', 'batch_size', 'class_names', 'data_dir', 'exit', 'get_ipython', 'image_batch', 'img_height', 'img_width', 'inspect', 'labels_batch', 'model_dictionary', 'num_classes', 'num_iterations', 'num_train', 'num_validation', 'pd', 'plt', 'quit', 'tf', 'tfds', 'tqdm', 'train', 'validation']\n"
     ]
    }
   ],
   "source": [
    "print(dir())"
   ]
  },
  {
   "cell_type": "code",
   "execution_count": 28,
   "id": "63527e90",
   "metadata": {},
   "outputs": [],
   "source": [
    "# List all available models\n",
    "model_dictionary = {m[0]:m[1] for m in inspect.getmembers(tf.keras.applications, inspect.isfunction)}"
   ]
  },
  {
   "cell_type": "code",
   "execution_count": 29,
   "id": "711279cc",
   "metadata": {},
   "outputs": [],
   "source": [
    "data_dir = \"/Users/esbishop/Sea_snakes_images/Images\" "
   ]
  },
  {
   "cell_type": "code",
   "execution_count": 30,
   "id": "92cc6562",
   "metadata": {},
   "outputs": [],
   "source": [
    "# We need to define some parameters for the laoder: \n",
    "img_height = 400\n",
    "img_width = 400"
   ]
  },
  {
   "cell_type": "code",
   "execution_count": 31,
   "id": "13b517fb",
   "metadata": {},
   "outputs": [
    {
     "name": "stdout",
     "output_type": "stream",
     "text": [
      "Found 1340 files belonging to 2 classes.\n",
      "Using 1072 files for training.\n",
      "Found 1340 files belonging to 2 classes.\n",
      "Using 268 files for validation.\n"
     ]
    }
   ],
   "source": [
    "# It's good practice to use a validation split when developing a model. Let's use 80% of the images for training, \n",
    "# and 20% for validation. \n",
    "train = tf.keras.utils.image_dataset_from_directory(\n",
    "  data_dir,\n",
    "  validation_split=0.2,\n",
    "  subset=\"training\",\n",
    "  seed=123,\n",
    "  image_size=(img_height, img_width),\n",
    "  batch_size=batch_size)\n",
    "\n",
    "validation = tf.keras.utils.image_dataset_from_directory(\n",
    "  data_dir,\n",
    "  validation_split=0.2,\n",
    "  subset=\"validation\",\n",
    "  seed=123,\n",
    "  image_size=(img_height, img_width),\n",
    "  batch_size=batch_size)"
   ]
  },
  {
   "cell_type": "code",
   "execution_count": 32,
   "id": "0da1fa9b",
   "metadata": {},
   "outputs": [
    {
     "name": "stdout",
     "output_type": "stream",
     "text": [
      "['rope', 'snake']\n"
     ]
    }
   ],
   "source": [
    "class_names = train.class_names\n",
    "print(class_names)"
   ]
  },
  {
   "cell_type": "code",
   "execution_count": 33,
   "id": "332d3c03",
   "metadata": {},
   "outputs": [
    {
     "name": "stdout",
     "output_type": "stream",
     "text": [
      "(16, 400, 400, 3)\n",
      "(16,)\n"
     ]
    }
   ],
   "source": [
    "for image_batch, labels_batch in train:\n",
    "  print(image_batch.shape)\n",
    "  print(labels_batch.shape)\n",
    "  break"
   ]
  },
  {
   "cell_type": "code",
   "execution_count": 34,
   "id": "d0eb6107",
   "metadata": {},
   "outputs": [],
   "source": [
    "# Number of training examples and labels\n",
    "num_train = len(train)\n",
    "num_validation = len(validation)\n",
    "num_classes = len(class_names)\n",
    "num_iterations = int(num_train/batch_size)"
   ]
  },
  {
   "cell_type": "code",
   "execution_count": 35,
   "id": "5fc48e51",
   "metadata": {},
   "outputs": [
    {
     "name": "stdout",
     "output_type": "stream",
     "text": [
      "Num train images: 67         \n",
      "Num validation images: 17         \n",
      "Num classes: 2         \n",
      "Num iterations per epoch: 4\n"
     ]
    }
   ],
   "source": [
    "# Print important info\n",
    "print(f'Num train images: {num_train} \\\n",
    "        \\nNum validation images: {num_validation} \\\n",
    "        \\nNum classes: {num_classes} \\\n",
    "        \\nNum iterations per epoch: {num_iterations}')"
   ]
  },
  {
   "cell_type": "code",
   "execution_count": 38,
   "id": "581920f3",
   "metadata": {},
   "outputs": [],
   "source": [
    "def normalize_img(image, label, img_size):\n",
    "    # Resize image to the desired img_size and normalize it\n",
    "    # One hot encode the label\n",
    "    image = tf.image.resize(image, img_size)\n",
    "    image = tf.cast(image, tf.float32) / 255.\n",
    "    label = tf.one_hot(label, depth=num_classes)\n",
    "    return image, label\n",
    "    \n",
    "def preprocess_data(train, validation, batch_size, img_size):\n",
    "    # Apply the normalize_img function on all train and validation data and create batches\n",
    "    train_processed = train.map(lambda image, label: normalize_img(image, label, img_size))\n",
    "    \n",
    "    # If your data is already batched (eg, when using the image_dataset_from_directory function), remove .batch(batch_size)\n",
    "    #train_processed = train_processed.batch(batch_size).repeat()\n",
    "    \n",
    "    validation_processed = validation.map(lambda image, label: normalize_img(image, label, img_size))\n",
    "    \n",
    "    # If your data is already batched (eg, when using the image_dataset_from_directory function), remove .batch(batch_size)\n",
    "    #validation_processed = validation_processed.batch(batch_size)\n",
    "    \n",
    "    return train_processed, validation_processed\n",
    "    \n",
    "# Run preprocessing\n",
    "train_processed_224, validation_processed_224 = preprocess_data(train, validation, batch_size, img_size=[224,224])\n",
    "train_processed_331, validation_processed_331 = preprocess_data(train, validation, batch_size, img_size=[331,331])\n"
   ]
  },
  {
   "cell_type": "code",
   "execution_count": 41,
   "id": "76259bc7",
   "metadata": {},
   "outputs": [
    {
     "name": "stderr",
     "output_type": "stream",
     "text": [
      "\r",
      "  0%|                                                    | 0/28 [00:00<?, ?it/s]"
     ]
    },
    {
     "name": "stdout",
     "output_type": "stream",
     "text": [
      "Epoch 1/3\n"
     ]
    },
    {
     "name": "stderr",
     "output_type": "stream",
     "text": [
      "2022-01-27 10:39:56.935879: I tensorflow/core/grappler/optimizers/custom_graph_optimizer_registry.cc:112] Plugin optimizer for device_type GPU is enabled.\n"
     ]
    },
    {
     "name": "stdout",
     "output_type": "stream",
     "text": [
      "4/4 [==============================] - ETA: 0s - loss: 0.9945 - accuracy: 0.5781"
     ]
    },
    {
     "name": "stderr",
     "output_type": "stream",
     "text": [
      "2022-01-27 10:40:14.916512: I tensorflow/core/grappler/optimizers/custom_graph_optimizer_registry.cc:112] Plugin optimizer for device_type GPU is enabled.\n"
     ]
    },
    {
     "name": "stdout",
     "output_type": "stream",
     "text": [
      "4/4 [==============================] - 42s 9s/step - loss: 0.9945 - accuracy: 0.5781 - val_loss: 0.7714 - val_accuracy: 0.6082\n",
      "Epoch 2/3\n",
      "4/4 [==============================] - 14s 4s/step - loss: 0.6746 - accuracy: 0.6719 - val_loss: 0.6353 - val_accuracy: 0.6567\n",
      "Epoch 3/3\n",
      "4/4 [==============================] - 14s 4s/step - loss: 0.6552 - accuracy: 0.6875 - val_loss: 0.5735 - val_accuracy: 0.7015\n"
     ]
    },
    {
     "name": "stderr",
     "output_type": "stream",
     "text": [
      "\r",
      "  4%|█▌                                          | 1/28 [01:11<32:13, 71.60s/it]"
     ]
    },
    {
     "name": "stdout",
     "output_type": "stream",
     "text": [
      "Epoch 1/3\n"
     ]
    },
    {
     "name": "stderr",
     "output_type": "stream",
     "text": [
      "2022-01-27 10:41:14.958400: I tensorflow/core/grappler/optimizers/custom_graph_optimizer_registry.cc:112] Plugin optimizer for device_type GPU is enabled.\n"
     ]
    },
    {
     "name": "stdout",
     "output_type": "stream",
     "text": [
      "4/4 [==============================] - ETA: 0s - loss: 0.6753 - accuracy: 0.6406"
     ]
    },
    {
     "name": "stderr",
     "output_type": "stream",
     "text": [
      "2022-01-27 10:41:30.774984: I tensorflow/core/grappler/optimizers/custom_graph_optimizer_registry.cc:112] Plugin optimizer for device_type GPU is enabled.\n"
     ]
    },
    {
     "name": "stdout",
     "output_type": "stream",
     "text": [
      "4/4 [==============================] - 42s 10s/step - loss: 0.6753 - accuracy: 0.6406 - val_loss: 0.5081 - val_accuracy: 0.7425\n",
      "Epoch 2/3\n",
      "4/4 [==============================] - 15s 5s/step - loss: 0.4031 - accuracy: 0.8438 - val_loss: 0.4097 - val_accuracy: 0.8396\n",
      "Epoch 3/3\n",
      "4/4 [==============================] - 16s 5s/step - loss: 0.3106 - accuracy: 0.8906 - val_loss: 0.3909 - val_accuracy: 0.8209\n"
     ]
    },
    {
     "name": "stderr",
     "output_type": "stream",
     "text": [
      "\r",
      "  7%|███▏                                        | 2/28 [02:32<33:20, 76.92s/it]"
     ]
    },
    {
     "name": "stdout",
     "output_type": "stream",
     "text": [
      "Epoch 1/3\n"
     ]
    },
    {
     "name": "stderr",
     "output_type": "stream",
     "text": [
      "2022-01-27 10:42:33.824971: I tensorflow/core/grappler/optimizers/custom_graph_optimizer_registry.cc:112] Plugin optimizer for device_type GPU is enabled.\n"
     ]
    },
    {
     "name": "stdout",
     "output_type": "stream",
     "text": [
      "4/4 [==============================] - ETA: 0s - loss: 1.2544 - accuracy: 0.3125"
     ]
    },
    {
     "name": "stderr",
     "output_type": "stream",
     "text": [
      "2022-01-27 10:42:52.945117: I tensorflow/core/grappler/optimizers/custom_graph_optimizer_registry.cc:112] Plugin optimizer for device_type GPU is enabled.\n"
     ]
    },
    {
     "name": "stdout",
     "output_type": "stream",
     "text": [
      "4/4 [==============================] - 58s 13s/step - loss: 1.2544 - accuracy: 0.3125 - val_loss: 0.7448 - val_accuracy: 0.5373\n",
      "Epoch 2/3\n",
      "4/4 [==============================] - 19s 6s/step - loss: 0.6341 - accuracy: 0.5625 - val_loss: 0.5566 - val_accuracy: 0.7052\n",
      "Epoch 3/3\n",
      "4/4 [==============================] - 18s 5s/step - loss: 0.5158 - accuracy: 0.7344 - val_loss: 0.5855 - val_accuracy: 0.6754\n"
     ]
    },
    {
     "name": "stderr",
     "output_type": "stream",
     "text": [
      "\r",
      " 11%|████▋                                       | 3/28 [04:09<35:54, 86.18s/it]"
     ]
    },
    {
     "name": "stdout",
     "output_type": "stream",
     "text": [
      "Epoch 1/3\n"
     ]
    },
    {
     "name": "stderr",
     "output_type": "stream",
     "text": [
      "2022-01-27 10:44:06.869228: I tensorflow/core/grappler/optimizers/custom_graph_optimizer_registry.cc:112] Plugin optimizer for device_type GPU is enabled.\n"
     ]
    },
    {
     "name": "stdout",
     "output_type": "stream",
     "text": [
      "4/4 [==============================] - ETA: 0s - loss: 0.7145 - accuracy: 0.5156"
     ]
    },
    {
     "name": "stderr",
     "output_type": "stream",
     "text": [
      "2022-01-27 10:44:19.947045: I tensorflow/core/grappler/optimizers/custom_graph_optimizer_registry.cc:112] Plugin optimizer for device_type GPU is enabled.\n"
     ]
    },
    {
     "name": "stdout",
     "output_type": "stream",
     "text": [
      "4/4 [==============================] - 33s 7s/step - loss: 0.7145 - accuracy: 0.5156 - val_loss: 0.6939 - val_accuracy: 0.5224\n",
      "Epoch 2/3\n",
      "4/4 [==============================] - 15s 5s/step - loss: 0.7083 - accuracy: 0.4375 - val_loss: 0.6933 - val_accuracy: 0.5224\n",
      "Epoch 3/3\n",
      "4/4 [==============================] - 14s 4s/step - loss: 0.7005 - accuracy: 0.4688 - val_loss: 0.6932 - val_accuracy: 0.5224\n"
     ]
    },
    {
     "name": "stderr",
     "output_type": "stream",
     "text": [
      "\r",
      " 14%|██████▎                                     | 4/28 [05:13<30:55, 77.32s/it]"
     ]
    },
    {
     "name": "stdout",
     "output_type": "stream",
     "text": [
      "Epoch 1/3\n"
     ]
    },
    {
     "name": "stderr",
     "output_type": "stream",
     "text": [
      "2022-01-27 10:45:16.160231: I tensorflow/core/grappler/optimizers/custom_graph_optimizer_registry.cc:112] Plugin optimizer for device_type GPU is enabled.\n"
     ]
    },
    {
     "name": "stdout",
     "output_type": "stream",
     "text": [
      "4/4 [==============================] - ETA: 0s - loss: 0.7274 - accuracy: 0.4375"
     ]
    },
    {
     "name": "stderr",
     "output_type": "stream",
     "text": [
      "2022-01-27 10:45:29.820235: I tensorflow/core/grappler/optimizers/custom_graph_optimizer_registry.cc:112] Plugin optimizer for device_type GPU is enabled.\n"
     ]
    },
    {
     "name": "stdout",
     "output_type": "stream",
     "text": [
      "4/4 [==============================] - 40s 9s/step - loss: 0.7274 - accuracy: 0.4375 - val_loss: 0.6966 - val_accuracy: 0.4776\n",
      "Epoch 2/3\n",
      "4/4 [==============================] - 15s 5s/step - loss: 0.6642 - accuracy: 0.6406 - val_loss: 0.7296 - val_accuracy: 0.5224\n",
      "Epoch 3/3\n",
      "4/4 [==============================] - 14s 5s/step - loss: 0.7254 - accuracy: 0.5156 - val_loss: 0.6926 - val_accuracy: 0.5224\n"
     ]
    },
    {
     "name": "stderr",
     "output_type": "stream",
     "text": [
      "\r",
      " 18%|███████▊                                    | 5/28 [06:28<29:23, 76.66s/it]"
     ]
    },
    {
     "name": "stdout",
     "output_type": "stream",
     "text": [
      "Epoch 1/3\n"
     ]
    },
    {
     "name": "stderr",
     "output_type": "stream",
     "text": [
      "2022-01-27 10:46:26.577175: I tensorflow/core/grappler/optimizers/custom_graph_optimizer_registry.cc:112] Plugin optimizer for device_type GPU is enabled.\n"
     ]
    },
    {
     "name": "stdout",
     "output_type": "stream",
     "text": [
      "4/4 [==============================] - ETA: 0s - loss: 0.6994 - accuracy: 0.5312"
     ]
    },
    {
     "name": "stderr",
     "output_type": "stream",
     "text": [
      "2022-01-27 10:46:44.089339: I tensorflow/core/grappler/optimizers/custom_graph_optimizer_registry.cc:112] Plugin optimizer for device_type GPU is enabled.\n"
     ]
    },
    {
     "name": "stdout",
     "output_type": "stream",
     "text": [
      "4/4 [==============================] - 44s 9s/step - loss: 0.6994 - accuracy: 0.5312 - val_loss: 0.7139 - val_accuracy: 0.5224\n",
      "Epoch 2/3\n",
      "4/4 [==============================] - 15s 4s/step - loss: 0.7049 - accuracy: 0.5000 - val_loss: 0.6950 - val_accuracy: 0.5224\n",
      "Epoch 3/3\n",
      "4/4 [==============================] - 14s 5s/step - loss: 0.6910 - accuracy: 0.5781 - val_loss: 0.7091 - val_accuracy: 0.5224\n"
     ]
    },
    {
     "name": "stderr",
     "output_type": "stream",
     "text": [
      "\r",
      " 21%|█████████▍                                  | 6/28 [07:43<27:51, 75.96s/it]"
     ]
    },
    {
     "name": "stdout",
     "output_type": "stream",
     "text": [
      "Epoch 1/3\n"
     ]
    },
    {
     "name": "stderr",
     "output_type": "stream",
     "text": [
      "2022-01-27 10:47:41.141773: I tensorflow/core/grappler/optimizers/custom_graph_optimizer_registry.cc:112] Plugin optimizer for device_type GPU is enabled.\n"
     ]
    },
    {
     "name": "stdout",
     "output_type": "stream",
     "text": [
      "4/4 [==============================] - ETA: 0s - loss: 0.8312 - accuracy: 0.4062"
     ]
    },
    {
     "name": "stderr",
     "output_type": "stream",
     "text": [
      "2022-01-27 10:47:57.308364: I tensorflow/core/grappler/optimizers/custom_graph_optimizer_registry.cc:112] Plugin optimizer for device_type GPU is enabled.\n"
     ]
    },
    {
     "name": "stdout",
     "output_type": "stream",
     "text": [
      "4/4 [==============================] - 44s 9s/step - loss: 0.8312 - accuracy: 0.4062 - val_loss: 0.7293 - val_accuracy: 0.5224\n",
      "Epoch 2/3\n",
      "4/4 [==============================] - 16s 5s/step - loss: 0.6910 - accuracy: 0.5312 - val_loss: 0.7348 - val_accuracy: 0.5224\n",
      "Epoch 3/3\n",
      "4/4 [==============================] - 15s 5s/step - loss: 0.6957 - accuracy: 0.6250 - val_loss: 0.7012 - val_accuracy: 0.5224\n"
     ]
    },
    {
     "name": "stderr",
     "output_type": "stream",
     "text": [
      "\r",
      " 25%|███████████                                 | 7/28 [08:59<26:38, 76.11s/it]"
     ]
    },
    {
     "name": "stdout",
     "output_type": "stream",
     "text": [
      "Epoch 1/3\n"
     ]
    },
    {
     "name": "stderr",
     "output_type": "stream",
     "text": [
      "2022-01-27 10:49:03.420892: I tensorflow/core/grappler/optimizers/custom_graph_optimizer_registry.cc:112] Plugin optimizer for device_type GPU is enabled.\n"
     ]
    },
    {
     "name": "stdout",
     "output_type": "stream",
     "text": [
      "4/4 [==============================] - ETA: 0s - loss: 0.7287 - accuracy: 0.5000"
     ]
    },
    {
     "name": "stderr",
     "output_type": "stream",
     "text": [
      "2022-01-27 10:49:24.888354: I tensorflow/core/grappler/optimizers/custom_graph_optimizer_registry.cc:112] Plugin optimizer for device_type GPU is enabled.\n"
     ]
    },
    {
     "name": "stdout",
     "output_type": "stream",
     "text": [
      "4/4 [==============================] - 60s 12s/step - loss: 0.7287 - accuracy: 0.5000 - val_loss: 0.7871 - val_accuracy: 0.5224\n",
      "Epoch 2/3\n",
      "4/4 [==============================] - 19s 6s/step - loss: 0.7599 - accuracy: 0.5938 - val_loss: 0.6922 - val_accuracy: 0.5224\n",
      "Epoch 3/3\n",
      "4/4 [==============================] - 16s 5s/step - loss: 0.6955 - accuracy: 0.5000 - val_loss: 0.7215 - val_accuracy: 0.4776\n"
     ]
    },
    {
     "name": "stderr",
     "output_type": "stream",
     "text": [
      "\r",
      " 29%|████████████▌                               | 8/28 [10:36<27:31, 82.58s/it]"
     ]
    },
    {
     "name": "stdout",
     "output_type": "stream",
     "text": [
      "Epoch 1/3\n"
     ]
    },
    {
     "name": "stderr",
     "output_type": "stream",
     "text": [
      "2022-01-27 10:50:36.338408: I tensorflow/core/grappler/optimizers/custom_graph_optimizer_registry.cc:112] Plugin optimizer for device_type GPU is enabled.\n"
     ]
    },
    {
     "name": "stdout",
     "output_type": "stream",
     "text": [
      "4/4 [==============================] - ETA: 0s - loss: 0.8379 - accuracy: 0.4531"
     ]
    },
    {
     "name": "stderr",
     "output_type": "stream",
     "text": [
      "2022-01-27 10:51:01.676053: I tensorflow/core/grappler/optimizers/custom_graph_optimizer_registry.cc:112] Plugin optimizer for device_type GPU is enabled.\n"
     ]
    },
    {
     "name": "stdout",
     "output_type": "stream",
     "text": [
      "4/4 [==============================] - 62s 13s/step - loss: 0.8379 - accuracy: 0.4531 - val_loss: 0.7032 - val_accuracy: 0.4776\n",
      "Epoch 2/3\n",
      "4/4 [==============================] - 18s 6s/step - loss: 0.6785 - accuracy: 0.5938 - val_loss: 0.7223 - val_accuracy: 0.5224\n",
      "Epoch 3/3\n",
      "4/4 [==============================] - 16s 5s/step - loss: 0.6721 - accuracy: 0.6406 - val_loss: 0.6851 - val_accuracy: 0.5410\n"
     ]
    },
    {
     "name": "stderr",
     "output_type": "stream",
     "text": [
      "\r",
      " 32%|██████████████▏                             | 9/28 [12:15<27:46, 87.74s/it]"
     ]
    },
    {
     "name": "stdout",
     "output_type": "stream",
     "text": [
      "Epoch 1/3\n"
     ]
    },
    {
     "name": "stderr",
     "output_type": "stream",
     "text": [
      "2022-01-27 10:52:20.686399: I tensorflow/core/grappler/optimizers/custom_graph_optimizer_registry.cc:112] Plugin optimizer for device_type GPU is enabled.\n"
     ]
    },
    {
     "name": "stdout",
     "output_type": "stream",
     "text": [
      "4/4 [==============================] - ETA: 0s - loss: 0.7641 - accuracy: 0.5469"
     ]
    },
    {
     "name": "stderr",
     "output_type": "stream",
     "text": [
      "2022-01-27 10:52:45.284767: I tensorflow/core/grappler/optimizers/custom_graph_optimizer_registry.cc:112] Plugin optimizer for device_type GPU is enabled.\n"
     ]
    },
    {
     "name": "stdout",
     "output_type": "stream",
     "text": [
      "4/4 [==============================] - 68s 15s/step - loss: 0.7641 - accuracy: 0.5469 - val_loss: 0.8060 - val_accuracy: 0.5224\n",
      "Epoch 2/3\n",
      "4/4 [==============================] - 20s 6s/step - loss: 0.6975 - accuracy: 0.5781 - val_loss: 0.7005 - val_accuracy: 0.4776\n",
      "Epoch 3/3\n",
      "4/4 [==============================] - 19s 6s/step - loss: 0.7283 - accuracy: 0.4375 - val_loss: 0.7426 - val_accuracy: 0.4776\n"
     ]
    },
    {
     "name": "stderr",
     "output_type": "stream",
     "text": [
      "\r",
      " 36%|███████████████▎                           | 10/28 [14:10<28:50, 96.16s/it]"
     ]
    },
    {
     "name": "stdout",
     "output_type": "stream",
     "text": [
      "Epoch 1/3\n"
     ]
    },
    {
     "name": "stderr",
     "output_type": "stream",
     "text": [
      "2022-01-27 10:54:15.339543: I tensorflow/core/grappler/optimizers/custom_graph_optimizer_registry.cc:112] Plugin optimizer for device_type GPU is enabled.\n"
     ]
    },
    {
     "name": "stdout",
     "output_type": "stream",
     "text": [
      "4/4 [==============================] - ETA: 0s - loss: 0.9213 - accuracy: 0.5312"
     ]
    },
    {
     "name": "stderr",
     "output_type": "stream",
     "text": [
      "2022-01-27 10:54:43.892626: I tensorflow/core/grappler/optimizers/custom_graph_optimizer_registry.cc:112] Plugin optimizer for device_type GPU is enabled.\n"
     ]
    },
    {
     "name": "stdout",
     "output_type": "stream",
     "text": [
      "4/4 [==============================] - 82s 18s/step - loss: 0.9213 - accuracy: 0.5312 - val_loss: 0.8119 - val_accuracy: 0.5224\n",
      "Epoch 2/3\n",
      "4/4 [==============================] - 24s 8s/step - loss: 0.7836 - accuracy: 0.4219 - val_loss: 0.7245 - val_accuracy: 0.5224\n",
      "Epoch 3/3\n",
      "4/4 [==============================] - 25s 8s/step - loss: 0.6800 - accuracy: 0.6094 - val_loss: 0.7475 - val_accuracy: 0.5224\n"
     ]
    },
    {
     "name": "stderr",
     "output_type": "stream",
     "text": [
      "\r",
      " 39%|████████████████▌                         | 11/28 [16:27<30:51, 108.89s/it]"
     ]
    },
    {
     "name": "stdout",
     "output_type": "stream",
     "text": [
      "Epoch 1/3\n"
     ]
    },
    {
     "name": "stderr",
     "output_type": "stream",
     "text": [
      "2022-01-27 10:56:32.454627: I tensorflow/core/grappler/optimizers/custom_graph_optimizer_registry.cc:112] Plugin optimizer for device_type GPU is enabled.\n"
     ]
    },
    {
     "name": "stdout",
     "output_type": "stream",
     "text": [
      "4/4 [==============================] - ETA: 0s - loss: 1.2884 - accuracy: 0.5000"
     ]
    },
    {
     "name": "stderr",
     "output_type": "stream",
     "text": [
      "2022-01-27 10:56:55.573818: I tensorflow/core/grappler/optimizers/custom_graph_optimizer_registry.cc:112] Plugin optimizer for device_type GPU is enabled.\n"
     ]
    },
    {
     "name": "stdout",
     "output_type": "stream",
     "text": [
      "4/4 [==============================] - 82s 18s/step - loss: 1.2884 - accuracy: 0.5000 - val_loss: 0.7906 - val_accuracy: 0.5149\n",
      "Epoch 2/3\n",
      "4/4 [==============================] - 18s 5s/step - loss: 0.7001 - accuracy: 0.5938 - val_loss: 0.5032 - val_accuracy: 0.8097\n",
      "Epoch 3/3\n",
      "4/4 [==============================] - 14s 5s/step - loss: 0.5994 - accuracy: 0.6875 - val_loss: 0.4264 - val_accuracy: 0.8433\n"
     ]
    },
    {
     "name": "stderr",
     "output_type": "stream",
     "text": [
      "\r",
      " 43%|██████████████████                        | 12/28 [18:25<29:45, 111.58s/it]"
     ]
    },
    {
     "name": "stdout",
     "output_type": "stream",
     "text": [
      "Epoch 1/3\n"
     ]
    },
    {
     "name": "stderr",
     "output_type": "stream",
     "text": [
      "2022-01-27 10:58:22.782938: I tensorflow/core/grappler/optimizers/custom_graph_optimizer_registry.cc:112] Plugin optimizer for device_type GPU is enabled.\n"
     ]
    },
    {
     "name": "stdout",
     "output_type": "stream",
     "text": [
      "4/4 [==============================] - ETA: 0s - loss: 1.4463 - accuracy: 0.6250"
     ]
    },
    {
     "name": "stderr",
     "output_type": "stream",
     "text": [
      "2022-01-27 10:58:36.462856: I tensorflow/core/grappler/optimizers/custom_graph_optimizer_registry.cc:112] Plugin optimizer for device_type GPU is enabled.\n"
     ]
    },
    {
     "name": "stdout",
     "output_type": "stream",
     "text": [
      "4/4 [==============================] - 36s 7s/step - loss: 1.4463 - accuracy: 0.6250 - val_loss: 0.5019 - val_accuracy: 0.7649\n",
      "Epoch 2/3\n",
      "4/4 [==============================] - 13s 4s/step - loss: 0.5292 - accuracy: 0.7344 - val_loss: 0.4502 - val_accuracy: 0.7649\n",
      "Epoch 3/3\n",
      "4/4 [==============================] - 12s 4s/step - loss: 0.5541 - accuracy: 0.7344 - val_loss: 0.6318 - val_accuracy: 0.6418\n"
     ]
    },
    {
     "name": "stderr",
     "output_type": "stream",
     "text": [
      "\r",
      " 46%|███████████████████▉                       | 13/28 [19:28<24:11, 96.77s/it]"
     ]
    },
    {
     "name": "stdout",
     "output_type": "stream",
     "text": [
      "Epoch 1/3\n"
     ]
    },
    {
     "name": "stderr",
     "output_type": "stream",
     "text": [
      "2022-01-27 10:59:23.509538: I tensorflow/core/grappler/optimizers/custom_graph_optimizer_registry.cc:112] Plugin optimizer for device_type GPU is enabled.\n"
     ]
    },
    {
     "name": "stdout",
     "output_type": "stream",
     "text": [
      "4/4 [==============================] - ETA: 0s - loss: 0.8998 - accuracy: 0.5938"
     ]
    },
    {
     "name": "stderr",
     "output_type": "stream",
     "text": [
      "2022-01-27 10:59:32.738751: I tensorflow/core/grappler/optimizers/custom_graph_optimizer_registry.cc:112] Plugin optimizer for device_type GPU is enabled.\n"
     ]
    },
    {
     "name": "stdout",
     "output_type": "stream",
     "text": [
      "4/4 [==============================] - 22s 5s/step - loss: 0.8998 - accuracy: 0.5938 - val_loss: 0.8094 - val_accuracy: 0.6269\n",
      "Epoch 2/3\n",
      "4/4 [==============================] - 12s 4s/step - loss: 0.5677 - accuracy: 0.7188 - val_loss: 0.5890 - val_accuracy: 0.7201\n",
      "Epoch 3/3\n",
      "4/4 [==============================] - 12s 4s/step - loss: 0.4961 - accuracy: 0.7188 - val_loss: 0.4723 - val_accuracy: 0.7761\n"
     ]
    },
    {
     "name": "stderr",
     "output_type": "stream",
     "text": [
      "\r",
      " 50%|█████████████████████▌                     | 14/28 [20:14<18:59, 81.36s/it]"
     ]
    },
    {
     "name": "stdout",
     "output_type": "stream",
     "text": [
      "Epoch 1/3\n"
     ]
    },
    {
     "name": "stderr",
     "output_type": "stream",
     "text": [
      "2022-01-27 11:00:09.726408: I tensorflow/core/grappler/optimizers/custom_graph_optimizer_registry.cc:112] Plugin optimizer for device_type GPU is enabled.\n"
     ]
    },
    {
     "name": "stdout",
     "output_type": "stream",
     "text": [
      "4/4 [==============================] - ETA: 0s - loss: 0.6090 - accuracy: 0.6719"
     ]
    },
    {
     "name": "stderr",
     "output_type": "stream",
     "text": [
      "2022-01-27 11:00:19.894245: I tensorflow/core/grappler/optimizers/custom_graph_optimizer_registry.cc:112] Plugin optimizer for device_type GPU is enabled.\n"
     ]
    },
    {
     "name": "stdout",
     "output_type": "stream",
     "text": [
      "4/4 [==============================] - 25s 5s/step - loss: 0.6090 - accuracy: 0.6719 - val_loss: 0.5962 - val_accuracy: 0.7090\n",
      "Epoch 2/3\n",
      "4/4 [==============================] - 12s 4s/step - loss: 0.3929 - accuracy: 0.8281 - val_loss: 0.4311 - val_accuracy: 0.8022\n",
      "Epoch 3/3\n",
      "4/4 [==============================] - 12s 4s/step - loss: 0.3311 - accuracy: 0.8750 - val_loss: 0.3798 - val_accuracy: 0.8321\n"
     ]
    },
    {
     "name": "stderr",
     "output_type": "stream",
     "text": [
      "\r",
      " 54%|███████████████████████                    | 15/28 [21:03<15:32, 71.72s/it]"
     ]
    },
    {
     "name": "stdout",
     "output_type": "stream",
     "text": [
      "Epoch 1/3\n"
     ]
    },
    {
     "name": "stderr",
     "output_type": "stream",
     "text": [
      "2022-01-27 11:00:59.541637: I tensorflow/core/grappler/optimizers/custom_graph_optimizer_registry.cc:112] Plugin optimizer for device_type GPU is enabled.\n"
     ]
    },
    {
     "name": "stdout",
     "output_type": "stream",
     "text": [
      "4/4 [==============================] - ETA: 0s - loss: 0.8646 - accuracy: 0.5781 "
     ]
    },
    {
     "name": "stderr",
     "output_type": "stream",
     "text": [
      "2022-01-27 11:02:39.489322: I tensorflow/core/grappler/optimizers/custom_graph_optimizer_registry.cc:112] Plugin optimizer for device_type GPU is enabled.\n"
     ]
    },
    {
     "name": "stdout",
     "output_type": "stream",
     "text": [
      "4/4 [==============================] - 848s 279s/step - loss: 0.8646 - accuracy: 0.5781 - val_loss: 0.7002 - val_accuracy: 0.5261\n",
      "Epoch 2/3\n",
      "4/4 [==============================] - 1080s 360s/step - loss: 0.7109 - accuracy: 0.5625 - val_loss: 0.6911 - val_accuracy: 0.5261\n",
      "Epoch 3/3\n",
      "4/4 [==============================] - 827s 276s/step - loss: 0.6970 - accuracy: 0.5625 - val_loss: 0.6637 - val_accuracy: 0.5336\n"
     ]
    },
    {
     "name": "stderr",
     "output_type": "stream",
     "text": [
      "\r",
      " 57%|█████████████████████▋                | 16/28 [1:07:00<2:55:59, 879.93s/it]"
     ]
    },
    {
     "name": "stdout",
     "output_type": "stream",
     "text": [
      "Epoch 1/3\n"
     ]
    },
    {
     "name": "stderr",
     "output_type": "stream",
     "text": [
      "2022-01-27 11:49:05.506527: I tensorflow/core/grappler/optimizers/custom_graph_optimizer_registry.cc:112] Plugin optimizer for device_type GPU is enabled.\n"
     ]
    },
    {
     "name": "stdout",
     "output_type": "stream",
     "text": [
      "4/4 [==============================] - ETA: 0s - loss: 0.6982 - accuracy: 0.5469"
     ]
    },
    {
     "name": "stderr",
     "output_type": "stream",
     "text": [
      "2022-01-27 11:49:17.728049: I tensorflow/core/grappler/optimizers/custom_graph_optimizer_registry.cc:112] Plugin optimizer for device_type GPU is enabled.\n"
     ]
    },
    {
     "name": "stdout",
     "output_type": "stream",
     "text": [
      "4/4 [==============================] - 156s 5s/step - loss: 0.6982 - accuracy: 0.5469 - val_loss: 0.6810 - val_accuracy: 0.4776\n",
      "Epoch 2/3\n",
      "4/4 [==============================] - 12s 4s/step - loss: 0.7356 - accuracy: 0.3594 - val_loss: 0.7111 - val_accuracy: 0.5224\n",
      "Epoch 3/3\n",
      "4/4 [==============================] - 12s 4s/step - loss: 0.7038 - accuracy: 0.5625 - val_loss: 0.6857 - val_accuracy: 0.5224\n"
     ]
    },
    {
     "name": "stderr",
     "output_type": "stream",
     "text": [
      "\r",
      " 61%|███████████████████████               | 17/28 [1:10:00<2:02:45, 669.59s/it]"
     ]
    },
    {
     "name": "stdout",
     "output_type": "stream",
     "text": [
      "Epoch 1/3\n"
     ]
    },
    {
     "name": "stderr",
     "output_type": "stream",
     "text": [
      "2022-01-27 11:50:03.175375: I tensorflow/core/grappler/optimizers/custom_graph_optimizer_registry.cc:112] Plugin optimizer for device_type GPU is enabled.\n"
     ]
    },
    {
     "name": "stdout",
     "output_type": "stream",
     "text": [
      "4/4 [==============================] - ETA: 0s - loss: 0.6521 - accuracy: 0.5938"
     ]
    },
    {
     "name": "stderr",
     "output_type": "stream",
     "text": [
      "2022-01-27 11:50:52.402618: I tensorflow/core/grappler/optimizers/custom_graph_optimizer_registry.cc:112] Plugin optimizer for device_type GPU is enabled.\n"
     ]
    },
    {
     "name": "stdout",
     "output_type": "stream",
     "text": [
      "4/4 [==============================] - 126s 30s/step - loss: 0.6521 - accuracy: 0.5938 - val_loss: 0.4769 - val_accuracy: 0.7873\n",
      "Epoch 2/3\n",
      "4/4 [==============================] - 43s 13s/step - loss: 0.3994 - accuracy: 0.8438 - val_loss: 0.3986 - val_accuracy: 0.8172\n",
      "Epoch 3/3\n",
      "4/4 [==============================] - 42s 13s/step - loss: 0.3619 - accuracy: 0.9219 - val_loss: 0.3370 - val_accuracy: 0.8843\n"
     ]
    },
    {
     "name": "stderr",
     "output_type": "stream",
     "text": [
      "\r",
      " 64%|████████████████████████▍             | 18/28 [1:13:36<1:28:53, 533.33s/it]"
     ]
    },
    {
     "name": "stdout",
     "output_type": "stream",
     "text": [
      "Epoch 1/3\n"
     ]
    },
    {
     "name": "stderr",
     "output_type": "stream",
     "text": [
      "2022-01-27 11:53:38.270212: I tensorflow/core/grappler/optimizers/custom_graph_optimizer_registry.cc:112] Plugin optimizer for device_type GPU is enabled.\n"
     ]
    },
    {
     "name": "stdout",
     "output_type": "stream",
     "text": [
      "4/4 [==============================] - ETA: 0s - loss: 0.6196 - accuracy: 0.6562"
     ]
    },
    {
     "name": "stderr",
     "output_type": "stream",
     "text": [
      "2022-01-27 11:54:05.192390: I tensorflow/core/grappler/optimizers/custom_graph_optimizer_registry.cc:112] Plugin optimizer for device_type GPU is enabled.\n"
     ]
    },
    {
     "name": "stdout",
     "output_type": "stream",
     "text": [
      "4/4 [==============================] - 70s 15s/step - loss: 0.6196 - accuracy: 0.6562 - val_loss: 0.5039 - val_accuracy: 0.7612\n",
      "Epoch 2/3\n",
      "4/4 [==============================] - 14s 4s/step - loss: 0.4294 - accuracy: 0.8281 - val_loss: 0.4432 - val_accuracy: 0.7948\n",
      "Epoch 3/3\n",
      "4/4 [==============================] - 15s 5s/step - loss: 0.4400 - accuracy: 0.8281 - val_loss: 0.4125 - val_accuracy: 0.8396\n"
     ]
    },
    {
     "name": "stderr",
     "output_type": "stream",
     "text": [
      "\r",
      " 68%|█████████████████████████▊            | 19/28 [1:15:19<1:00:34, 403.85s/it]"
     ]
    },
    {
     "name": "stdout",
     "output_type": "stream",
     "text": [
      "Epoch 1/3\n"
     ]
    },
    {
     "name": "stderr",
     "output_type": "stream",
     "text": [
      "2022-01-27 11:55:22.643318: I tensorflow/core/grappler/optimizers/custom_graph_optimizer_registry.cc:112] Plugin optimizer for device_type GPU is enabled.\n"
     ]
    },
    {
     "name": "stdout",
     "output_type": "stream",
     "text": [
      "4/4 [==============================] - ETA: 0s - loss: 0.7530 - accuracy: 0.4062"
     ]
    },
    {
     "name": "stderr",
     "output_type": "stream",
     "text": [
      "2022-01-27 11:55:40.519960: I tensorflow/core/grappler/optimizers/custom_graph_optimizer_registry.cc:112] Plugin optimizer for device_type GPU is enabled.\n"
     ]
    },
    {
     "name": "stdout",
     "output_type": "stream",
     "text": [
      "4/4 [==============================] - 52s 10s/step - loss: 0.7530 - accuracy: 0.4062 - val_loss: 0.6885 - val_accuracy: 0.5373\n",
      "Epoch 2/3\n",
      "4/4 [==============================] - 15s 5s/step - loss: 0.6834 - accuracy: 0.5781 - val_loss: 0.6953 - val_accuracy: 0.5299\n",
      "Epoch 3/3\n",
      "4/4 [==============================] - 14s 5s/step - loss: 0.7032 - accuracy: 0.5156 - val_loss: 0.6782 - val_accuracy: 0.5522\n"
     ]
    },
    {
     "name": "stderr",
     "output_type": "stream",
     "text": [
      "\r",
      " 71%|████████████████████████████▌           | 20/28 [1:16:41<40:59, 307.39s/it]"
     ]
    },
    {
     "name": "stdout",
     "output_type": "stream",
     "text": [
      "Epoch 1/3\n"
     ]
    },
    {
     "name": "stderr",
     "output_type": "stream",
     "text": [
      "2022-01-27 11:56:38.698409: I tensorflow/core/grappler/optimizers/custom_graph_optimizer_registry.cc:112] Plugin optimizer for device_type GPU is enabled.\n"
     ]
    },
    {
     "name": "stdout",
     "output_type": "stream",
     "text": [
      "4/4 [==============================] - ETA: 0s - loss: 0.7472 - accuracy: 0.6719"
     ]
    },
    {
     "name": "stderr",
     "output_type": "stream",
     "text": [
      "2022-01-27 11:56:55.025279: I tensorflow/core/grappler/optimizers/custom_graph_optimizer_registry.cc:112] Plugin optimizer for device_type GPU is enabled.\n"
     ]
    },
    {
     "name": "stdout",
     "output_type": "stream",
     "text": [
      "4/4 [==============================] - 44s 10s/step - loss: 0.7472 - accuracy: 0.6719 - val_loss: 0.3760 - val_accuracy: 0.8321\n",
      "Epoch 2/3\n",
      "4/4 [==============================] - 15s 5s/step - loss: 0.3328 - accuracy: 0.8281 - val_loss: 0.2937 - val_accuracy: 0.8881\n",
      "Epoch 3/3\n",
      "4/4 [==============================] - 14s 4s/step - loss: 0.2309 - accuracy: 0.8750 - val_loss: 0.4123 - val_accuracy: 0.8097\n"
     ]
    },
    {
     "name": "stderr",
     "output_type": "stream",
     "text": [
      "\r",
      " 75%|██████████████████████████████          | 21/28 [1:17:55<27:41, 237.40s/it]"
     ]
    },
    {
     "name": "stdout",
     "output_type": "stream",
     "text": [
      "Epoch 1/3\n"
     ]
    },
    {
     "name": "stderr",
     "output_type": "stream",
     "text": [
      "2022-01-27 11:57:54.412973: I tensorflow/core/grappler/optimizers/custom_graph_optimizer_registry.cc:112] Plugin optimizer for device_type GPU is enabled.\n"
     ]
    },
    {
     "name": "stdout",
     "output_type": "stream",
     "text": [
      "4/4 [==============================] - ETA: 0s - loss: 0.7009 - accuracy: 0.5938"
     ]
    },
    {
     "name": "stderr",
     "output_type": "stream",
     "text": [
      "2022-01-27 11:58:18.021313: I tensorflow/core/grappler/optimizers/custom_graph_optimizer_registry.cc:112] Plugin optimizer for device_type GPU is enabled.\n"
     ]
    },
    {
     "name": "stdout",
     "output_type": "stream",
     "text": [
      "4/4 [==============================] - 64s 15s/step - loss: 0.7009 - accuracy: 0.5938 - val_loss: 0.6835 - val_accuracy: 0.5560\n",
      "Epoch 2/3\n",
      "4/4 [==============================] - 18s 6s/step - loss: 0.7055 - accuracy: 0.5000 - val_loss: 0.6749 - val_accuracy: 0.6194\n",
      "Epoch 3/3\n",
      "4/4 [==============================] - 17s 5s/step - loss: 0.6962 - accuracy: 0.6094 - val_loss: 0.6734 - val_accuracy: 0.5634\n"
     ]
    },
    {
     "name": "stderr",
     "output_type": "stream",
     "text": [
      "\r",
      " 79%|███████████████████████████████▍        | 22/28 [1:19:36<19:38, 196.46s/it]"
     ]
    },
    {
     "name": "stdout",
     "output_type": "stream",
     "text": [
      "Epoch 1/3\n"
     ]
    },
    {
     "name": "stderr",
     "output_type": "stream",
     "text": [
      "2022-01-27 11:59:40.011039: I tensorflow/core/grappler/optimizers/custom_graph_optimizer_registry.cc:112] Plugin optimizer for device_type GPU is enabled.\n"
     ]
    },
    {
     "name": "stdout",
     "output_type": "stream",
     "text": [
      "4/4 [==============================] - ETA: 0s - loss: 1.1154 - accuracy: 0.5156"
     ]
    },
    {
     "name": "stderr",
     "output_type": "stream",
     "text": [
      "2022-01-27 12:00:00.176997: I tensorflow/core/grappler/optimizers/custom_graph_optimizer_registry.cc:112] Plugin optimizer for device_type GPU is enabled.\n"
     ]
    },
    {
     "name": "stdout",
     "output_type": "stream",
     "text": [
      "4/4 [==============================] - 55s 13s/step - loss: 1.1154 - accuracy: 0.5156 - val_loss: 0.5182 - val_accuracy: 0.7201\n",
      "Epoch 2/3\n",
      "4/4 [==============================] - 17s 5s/step - loss: 0.5590 - accuracy: 0.7500 - val_loss: 0.3914 - val_accuracy: 0.7985\n",
      "Epoch 3/3\n",
      "4/4 [==============================] - 17s 5s/step - loss: 0.4219 - accuracy: 0.7812 - val_loss: 0.3179 - val_accuracy: 0.8545\n"
     ]
    },
    {
     "name": "stderr",
     "output_type": "stream",
     "text": [
      "\r",
      " 82%|████████████████████████████████▊       | 23/28 [1:21:12<13:50, 166.08s/it]"
     ]
    },
    {
     "name": "stdout",
     "output_type": "stream",
     "text": [
      "Downloading data from https://storage.googleapis.com/tensorflow/keras-applications/resnet/resnet50_weights_tf_dim_ordering_tf_kernels_notop.h5\n",
      "94773248/94765736 [==============================] - 7s 0us/step\n",
      "94781440/94765736 [==============================] - 7s 0us/step\n",
      "Epoch 1/3\n"
     ]
    },
    {
     "name": "stderr",
     "output_type": "stream",
     "text": [
      "2022-01-27 12:01:15.891858: I tensorflow/core/grappler/optimizers/custom_graph_optimizer_registry.cc:112] Plugin optimizer for device_type GPU is enabled.\n"
     ]
    },
    {
     "name": "stdout",
     "output_type": "stream",
     "text": [
      "4/4 [==============================] - ETA: 0s - loss: 0.7054 - accuracy: 0.6250"
     ]
    },
    {
     "name": "stderr",
     "output_type": "stream",
     "text": [
      "2022-01-27 12:01:27.993789: I tensorflow/core/grappler/optimizers/custom_graph_optimizer_registry.cc:112] Plugin optimizer for device_type GPU is enabled.\n"
     ]
    },
    {
     "name": "stdout",
     "output_type": "stream",
     "text": [
      "4/4 [==============================] - 31s 7s/step - loss: 0.7054 - accuracy: 0.6250 - val_loss: 0.8526 - val_accuracy: 0.5224\n",
      "Epoch 2/3\n",
      "4/4 [==============================] - 14s 4s/step - loss: 0.7035 - accuracy: 0.5938 - val_loss: 0.6995 - val_accuracy: 0.5224\n",
      "Epoch 3/3\n",
      "4/4 [==============================] - 16s 5s/step - loss: 0.7625 - accuracy: 0.3594 - val_loss: 0.6849 - val_accuracy: 0.6194\n"
     ]
    },
    {
     "name": "stderr",
     "output_type": "stream",
     "text": [
      "\r",
      " 86%|██████████████████████████████████▎     | 24/28 [1:22:21<09:08, 137.00s/it]"
     ]
    },
    {
     "name": "stdout",
     "output_type": "stream",
     "text": [
      "Downloading data from https://storage.googleapis.com/tensorflow/keras-applications/resnet/resnet50v2_weights_tf_dim_ordering_tf_kernels_notop.h5\n",
      "94674944/94668760 [==============================] - 55s 1us/step\n",
      "94683136/94668760 [==============================] - 55s 1us/step\n",
      "Epoch 1/3\n"
     ]
    },
    {
     "name": "stderr",
     "output_type": "stream",
     "text": [
      "2022-01-27 12:03:14.069719: I tensorflow/core/grappler/optimizers/custom_graph_optimizer_registry.cc:112] Plugin optimizer for device_type GPU is enabled.\n"
     ]
    },
    {
     "name": "stdout",
     "output_type": "stream",
     "text": [
      "4/4 [==============================] - ETA: 0s - loss: 1.0371 - accuracy: 0.5781"
     ]
    },
    {
     "name": "stderr",
     "output_type": "stream",
     "text": [
      "2022-01-27 12:03:26.063320: I tensorflow/core/grappler/optimizers/custom_graph_optimizer_registry.cc:112] Plugin optimizer for device_type GPU is enabled.\n"
     ]
    },
    {
     "name": "stdout",
     "output_type": "stream",
     "text": [
      "4/4 [==============================] - 31s 7s/step - loss: 1.0371 - accuracy: 0.5781 - val_loss: 0.6366 - val_accuracy: 0.6530\n",
      "Epoch 2/3\n",
      "4/4 [==============================] - 13s 4s/step - loss: 0.5726 - accuracy: 0.7500 - val_loss: 0.4415 - val_accuracy: 0.7836\n",
      "Epoch 3/3\n",
      "4/4 [==============================] - 14s 4s/step - loss: 0.3682 - accuracy: 0.8438 - val_loss: 0.3528 - val_accuracy: 0.8433\n"
     ]
    },
    {
     "name": "stderr",
     "output_type": "stream",
     "text": [
      "\r",
      " 89%|███████████████████████████████████▋    | 25/28 [1:24:17<06:32, 130.89s/it]"
     ]
    },
    {
     "name": "stdout",
     "output_type": "stream",
     "text": [
      "Epoch 1/3\n"
     ]
    },
    {
     "name": "stderr",
     "output_type": "stream",
     "text": [
      "2022-01-27 12:04:12.850974: I tensorflow/core/grappler/optimizers/custom_graph_optimizer_registry.cc:112] Plugin optimizer for device_type GPU is enabled.\n"
     ]
    },
    {
     "name": "stdout",
     "output_type": "stream",
     "text": [
      "4/4 [==============================] - ETA: 0s - loss: 0.6901 - accuracy: 0.5781"
     ]
    },
    {
     "name": "stderr",
     "output_type": "stream",
     "text": [
      "2022-01-27 12:04:22.312617: I tensorflow/core/grappler/optimizers/custom_graph_optimizer_registry.cc:112] Plugin optimizer for device_type GPU is enabled.\n",
      "2022-01-27 12:04:33.302395: I tensorflow/core/kernels/data/shuffle_dataset_op.cc:175] Filling up shuffle buffer (this may take a while): 89 of 128\n",
      "2022-01-27 12:04:38.827757: I tensorflow/core/kernels/data/shuffle_dataset_op.cc:228] Shuffle buffer filled.\n"
     ]
    },
    {
     "name": "stdout",
     "output_type": "stream",
     "text": [
      "4/4 [==============================] - 35s 9s/step - loss: 0.6901 - accuracy: 0.5781 - val_loss: 0.6670 - val_accuracy: 0.5821\n",
      "Epoch 2/3\n",
      "4/4 [==============================] - 15s 5s/step - loss: 0.6343 - accuracy: 0.6406 - val_loss: 0.6511 - val_accuracy: 0.6306\n",
      "Epoch 3/3\n",
      "4/4 [==============================] - ETA: 0s - loss: 0.5921 - accuracy: 0.6719"
     ]
    },
    {
     "name": "stderr",
     "output_type": "stream",
     "text": [
      "2022-01-27 12:05:13.961368: I tensorflow/core/kernels/data/shuffle_dataset_op.cc:175] Filling up shuffle buffer (this may take a while): 89 of 128\n",
      "2022-01-27 12:05:15.183049: I tensorflow/core/kernels/data/shuffle_dataset_op.cc:228] Shuffle buffer filled.\n"
     ]
    },
    {
     "name": "stdout",
     "output_type": "stream",
     "text": [
      "\b\b\b\b\b\b\b\b\b\b\b\b\b\b\b\b\b\b\b\b\b\b\b\b\b\b\b\b\b\b\b\b\b\b\b\b\b\b\b\b\b\b\b\b\b\b\b\b\b\b\b\b\b\b\b\b\b\b\b\b\b\b\b\b\b\b\b\b\b\b\b\b\b\b\b\b\b\b\b\b\r",
      "4/4 [==============================] - 20s 7s/step - loss: 0.5921 - accuracy: 0.6719 - val_loss: 0.6567 - val_accuracy: 0.5560\n"
     ]
    },
    {
     "name": "stderr",
     "output_type": "stream",
     "text": [
      "\r",
      " 93%|█████████████████████████████████████▏  | 26/28 [1:25:28<03:45, 112.71s/it]"
     ]
    },
    {
     "name": "stdout",
     "output_type": "stream",
     "text": [
      "Downloading data from https://storage.googleapis.com/tensorflow/keras-applications/vgg19/vgg19_weights_tf_dim_ordering_tf_kernels_notop.h5\n",
      "80142336/80134624 [==============================] - 6s 0us/step\n",
      "80150528/80134624 [==============================] - 6s 0us/step\n",
      "Epoch 1/3\n"
     ]
    },
    {
     "name": "stderr",
     "output_type": "stream",
     "text": [
      "2022-01-27 12:05:30.438064: I tensorflow/core/grappler/optimizers/custom_graph_optimizer_registry.cc:112] Plugin optimizer for device_type GPU is enabled.\n"
     ]
    },
    {
     "name": "stdout",
     "output_type": "stream",
     "text": [
      "4/4 [==============================] - ETA: 0s - loss: 0.6809 - accuracy: 0.5156"
     ]
    },
    {
     "name": "stderr",
     "output_type": "stream",
     "text": [
      "2022-01-27 12:05:39.566245: I tensorflow/core/grappler/optimizers/custom_graph_optimizer_registry.cc:112] Plugin optimizer for device_type GPU is enabled.\n"
     ]
    },
    {
     "name": "stdout",
     "output_type": "stream",
     "text": [
      "4/4 [==============================] - 28s 7s/step - loss: 0.6809 - accuracy: 0.5156 - val_loss: 0.6522 - val_accuracy: 0.6791\n",
      "Epoch 2/3\n",
      "4/4 [==============================] - ETA: 0s - loss: 0.6428 - accuracy: 0.6094"
     ]
    },
    {
     "name": "stderr",
     "output_type": "stream",
     "text": [
      "2022-01-27 12:06:10.153467: I tensorflow/core/kernels/data/shuffle_dataset_op.cc:175] Filling up shuffle buffer (this may take a while): 109 of 128\n",
      "2022-01-27 12:06:11.153676: I tensorflow/core/kernels/data/shuffle_dataset_op.cc:228] Shuffle buffer filled.\n"
     ]
    },
    {
     "name": "stdout",
     "output_type": "stream",
     "text": [
      "4/4 [==============================] - 26s 8s/step - loss: 0.6428 - accuracy: 0.6094 - val_loss: 0.6470 - val_accuracy: 0.5784\n",
      "Epoch 3/3\n",
      "4/4 [==============================] - 20s 6s/step - loss: 0.6297 - accuracy: 0.6094 - val_loss: 0.6313 - val_accuracy: 0.7799\n"
     ]
    },
    {
     "name": "stderr",
     "output_type": "stream",
     "text": [
      "\r",
      " 96%|██████████████████████████████████████▌ | 27/28 [1:26:49<01:43, 103.19s/it]"
     ]
    },
    {
     "name": "stdout",
     "output_type": "stream",
     "text": [
      "Downloading data from https://storage.googleapis.com/tensorflow/keras-applications/xception/xception_weights_tf_dim_ordering_tf_kernels_notop.h5\n",
      "83689472/83683744 [==============================] - 7s 0us/step\n",
      "83697664/83683744 [==============================] - 7s 0us/step\n",
      "Epoch 1/3\n"
     ]
    },
    {
     "name": "stderr",
     "output_type": "stream",
     "text": [
      "2022-01-27 12:06:58.400724: I tensorflow/core/grappler/optimizers/custom_graph_optimizer_registry.cc:112] Plugin optimizer for device_type GPU is enabled.\n"
     ]
    },
    {
     "name": "stdout",
     "output_type": "stream",
     "text": [
      "4/4 [==============================] - ETA: 0s - loss: 0.6557 - accuracy: 0.6250"
     ]
    },
    {
     "name": "stderr",
     "output_type": "stream",
     "text": [
      "2022-01-27 12:07:11.929848: I tensorflow/core/grappler/optimizers/custom_graph_optimizer_registry.cc:112] Plugin optimizer for device_type GPU is enabled.\n"
     ]
    },
    {
     "name": "stdout",
     "output_type": "stream",
     "text": [
      "4/4 [==============================] - 38s 7s/step - loss: 0.6557 - accuracy: 0.6250 - val_loss: 0.5736 - val_accuracy: 0.6567\n",
      "Epoch 2/3\n",
      "4/4 [==============================] - 14s 5s/step - loss: 0.4072 - accuracy: 0.8125 - val_loss: 0.4222 - val_accuracy: 0.8396\n",
      "Epoch 3/3\n",
      "4/4 [==============================] - 14s 4s/step - loss: 0.3935 - accuracy: 0.8281 - val_loss: 0.4213 - val_accuracy: 0.8022\n"
     ]
    },
    {
     "name": "stderr",
     "output_type": "stream",
     "text": [
      "100%|████████████████████████████████████████| 28/28 [1:28:03<00:00, 188.71s/it]\n"
     ]
    }
   ],
   "source": [
    "# Loop over each model available in Keras\n",
    "model_benchmarks = {'model_name': [], 'num_model_params': [], 'validation_accuracy': []}\n",
    "\n",
    "for model_name, model in tqdm(model_dictionary.items()):\n",
    "    # Special handling for \"NASNetLarge\" since it requires input images with size (331,331)\n",
    "    if 'NASNetLarge' in model_name:\n",
    "        input_shape=(331,331,3)\n",
    "        train_processed = train_processed_331\n",
    "        validation_processed = validation_processed_331\n",
    "    else:\n",
    "        input_shape=(224,224,3)\n",
    "        train_processed = train_processed_224\n",
    "        validation_processed = validation_processed_224\n",
    "        \n",
    "    # load the pre-trained model with global average pooling as the last layer and freeze the model weights\n",
    "    pre_trained_model = model(include_top=False, pooling='avg', input_shape=input_shape)\n",
    "    pre_trained_model.trainable = False\n",
    "    \n",
    "    # custom modifications on top of pre-trained model and fit\n",
    "    clf_model = tf.keras.models.Sequential()\n",
    "    clf_model.add(pre_trained_model)\n",
    "    clf_model.add(tf.keras.layers.Dense(num_classes, activation='softmax'))\n",
    "    clf_model.compile(loss='categorical_crossentropy', metrics=['accuracy'])\n",
    "    history = clf_model.fit(train_processed, epochs=3, validation_data=validation_processed, steps_per_epoch=num_iterations)\n",
    "    \n",
    "    # Calculate all relevant metrics\n",
    "    model_benchmarks['model_name'].append(model_name)\n",
    "    model_benchmarks['num_model_params'].append(pre_trained_model.count_params())\n",
    "    model_benchmarks['validation_accuracy'].append(history.history['val_accuracy'][-1])\n"
   ]
  },
  {
   "cell_type": "code",
   "execution_count": 42,
   "id": "3e2d0073",
   "metadata": {},
   "outputs": [
    {
     "data": {
      "text/html": [
       "<div>\n",
       "<style scoped>\n",
       "    .dataframe tbody tr th:only-of-type {\n",
       "        vertical-align: middle;\n",
       "    }\n",
       "\n",
       "    .dataframe tbody tr th {\n",
       "        vertical-align: top;\n",
       "    }\n",
       "\n",
       "    .dataframe thead th {\n",
       "        text-align: right;\n",
       "    }\n",
       "</style>\n",
       "<table border=\"1\" class=\"dataframe\">\n",
       "  <thead>\n",
       "    <tr style=\"text-align: right;\">\n",
       "      <th></th>\n",
       "      <th>model_name</th>\n",
       "      <th>num_model_params</th>\n",
       "      <th>validation_accuracy</th>\n",
       "    </tr>\n",
       "  </thead>\n",
       "  <tbody>\n",
       "    <tr>\n",
       "      <th>16</th>\n",
       "      <td>MobileNetV3Small</td>\n",
       "      <td>1529968</td>\n",
       "      <td>0.522388</td>\n",
       "    </tr>\n",
       "    <tr>\n",
       "      <th>14</th>\n",
       "      <td>MobileNetV2</td>\n",
       "      <td>2257984</td>\n",
       "      <td>0.832090</td>\n",
       "    </tr>\n",
       "    <tr>\n",
       "      <th>13</th>\n",
       "      <td>MobileNet</td>\n",
       "      <td>3228864</td>\n",
       "      <td>0.776119</td>\n",
       "    </tr>\n",
       "    <tr>\n",
       "      <th>3</th>\n",
       "      <td>EfficientNetB0</td>\n",
       "      <td>4049571</td>\n",
       "      <td>0.522388</td>\n",
       "    </tr>\n",
       "    <tr>\n",
       "      <th>15</th>\n",
       "      <td>MobileNetV3Large</td>\n",
       "      <td>4226432</td>\n",
       "      <td>0.533582</td>\n",
       "    </tr>\n",
       "    <tr>\n",
       "      <th>18</th>\n",
       "      <td>NASNetMobile</td>\n",
       "      <td>4269716</td>\n",
       "      <td>0.839552</td>\n",
       "    </tr>\n",
       "    <tr>\n",
       "      <th>4</th>\n",
       "      <td>EfficientNetB1</td>\n",
       "      <td>6575239</td>\n",
       "      <td>0.522388</td>\n",
       "    </tr>\n",
       "    <tr>\n",
       "      <th>0</th>\n",
       "      <td>DenseNet121</td>\n",
       "      <td>7037504</td>\n",
       "      <td>0.701493</td>\n",
       "    </tr>\n",
       "    <tr>\n",
       "      <th>5</th>\n",
       "      <td>EfficientNetB2</td>\n",
       "      <td>7768569</td>\n",
       "      <td>0.522388</td>\n",
       "    </tr>\n",
       "    <tr>\n",
       "      <th>6</th>\n",
       "      <td>EfficientNetB3</td>\n",
       "      <td>10783535</td>\n",
       "      <td>0.522388</td>\n",
       "    </tr>\n",
       "    <tr>\n",
       "      <th>1</th>\n",
       "      <td>DenseNet169</td>\n",
       "      <td>12642880</td>\n",
       "      <td>0.820895</td>\n",
       "    </tr>\n",
       "    <tr>\n",
       "      <th>25</th>\n",
       "      <td>VGG16</td>\n",
       "      <td>14714688</td>\n",
       "      <td>0.555970</td>\n",
       "    </tr>\n",
       "    <tr>\n",
       "      <th>7</th>\n",
       "      <td>EfficientNetB4</td>\n",
       "      <td>17673823</td>\n",
       "      <td>0.477612</td>\n",
       "    </tr>\n",
       "    <tr>\n",
       "      <th>2</th>\n",
       "      <td>DenseNet201</td>\n",
       "      <td>18321984</td>\n",
       "      <td>0.675373</td>\n",
       "    </tr>\n",
       "    <tr>\n",
       "      <th>26</th>\n",
       "      <td>VGG19</td>\n",
       "      <td>20024384</td>\n",
       "      <td>0.779851</td>\n",
       "    </tr>\n",
       "    <tr>\n",
       "      <th>27</th>\n",
       "      <td>Xception</td>\n",
       "      <td>20861480</td>\n",
       "      <td>0.802239</td>\n",
       "    </tr>\n",
       "    <tr>\n",
       "      <th>12</th>\n",
       "      <td>InceptionV3</td>\n",
       "      <td>21802784</td>\n",
       "      <td>0.641791</td>\n",
       "    </tr>\n",
       "    <tr>\n",
       "      <th>24</th>\n",
       "      <td>ResNet50V2</td>\n",
       "      <td>23564800</td>\n",
       "      <td>0.843284</td>\n",
       "    </tr>\n",
       "    <tr>\n",
       "      <th>23</th>\n",
       "      <td>ResNet50</td>\n",
       "      <td>23587712</td>\n",
       "      <td>0.619403</td>\n",
       "    </tr>\n",
       "    <tr>\n",
       "      <th>8</th>\n",
       "      <td>EfficientNetB5</td>\n",
       "      <td>28513527</td>\n",
       "      <td>0.541045</td>\n",
       "    </tr>\n",
       "    <tr>\n",
       "      <th>9</th>\n",
       "      <td>EfficientNetB6</td>\n",
       "      <td>40960143</td>\n",
       "      <td>0.477612</td>\n",
       "    </tr>\n",
       "    <tr>\n",
       "      <th>20</th>\n",
       "      <td>ResNet101V2</td>\n",
       "      <td>42626560</td>\n",
       "      <td>0.809702</td>\n",
       "    </tr>\n",
       "    <tr>\n",
       "      <th>19</th>\n",
       "      <td>ResNet101</td>\n",
       "      <td>42658176</td>\n",
       "      <td>0.552239</td>\n",
       "    </tr>\n",
       "    <tr>\n",
       "      <th>11</th>\n",
       "      <td>InceptionResNetV2</td>\n",
       "      <td>54336736</td>\n",
       "      <td>0.843284</td>\n",
       "    </tr>\n",
       "    <tr>\n",
       "      <th>22</th>\n",
       "      <td>ResNet152V2</td>\n",
       "      <td>58331648</td>\n",
       "      <td>0.854478</td>\n",
       "    </tr>\n",
       "    <tr>\n",
       "      <th>21</th>\n",
       "      <td>ResNet152</td>\n",
       "      <td>58370944</td>\n",
       "      <td>0.563433</td>\n",
       "    </tr>\n",
       "    <tr>\n",
       "      <th>10</th>\n",
       "      <td>EfficientNetB7</td>\n",
       "      <td>64097687</td>\n",
       "      <td>0.522388</td>\n",
       "    </tr>\n",
       "    <tr>\n",
       "      <th>17</th>\n",
       "      <td>NASNetLarge</td>\n",
       "      <td>84916818</td>\n",
       "      <td>0.884328</td>\n",
       "    </tr>\n",
       "  </tbody>\n",
       "</table>\n",
       "</div>"
      ],
      "text/plain": [
       "           model_name  num_model_params  validation_accuracy\n",
       "16   MobileNetV3Small           1529968             0.522388\n",
       "14        MobileNetV2           2257984             0.832090\n",
       "13          MobileNet           3228864             0.776119\n",
       "3      EfficientNetB0           4049571             0.522388\n",
       "15   MobileNetV3Large           4226432             0.533582\n",
       "18       NASNetMobile           4269716             0.839552\n",
       "4      EfficientNetB1           6575239             0.522388\n",
       "0         DenseNet121           7037504             0.701493\n",
       "5      EfficientNetB2           7768569             0.522388\n",
       "6      EfficientNetB3          10783535             0.522388\n",
       "1         DenseNet169          12642880             0.820895\n",
       "25              VGG16          14714688             0.555970\n",
       "7      EfficientNetB4          17673823             0.477612\n",
       "2         DenseNet201          18321984             0.675373\n",
       "26              VGG19          20024384             0.779851\n",
       "27           Xception          20861480             0.802239\n",
       "12        InceptionV3          21802784             0.641791\n",
       "24         ResNet50V2          23564800             0.843284\n",
       "23           ResNet50          23587712             0.619403\n",
       "8      EfficientNetB5          28513527             0.541045\n",
       "9      EfficientNetB6          40960143             0.477612\n",
       "20        ResNet101V2          42626560             0.809702\n",
       "19          ResNet101          42658176             0.552239\n",
       "11  InceptionResNetV2          54336736             0.843284\n",
       "22        ResNet152V2          58331648             0.854478\n",
       "21          ResNet152          58370944             0.563433\n",
       "10     EfficientNetB7          64097687             0.522388\n",
       "17        NASNetLarge          84916818             0.884328"
      ]
     },
     "execution_count": 42,
     "metadata": {},
     "output_type": "execute_result"
    }
   ],
   "source": [
    "# Convert Results to DataFrame for easy viewing\n",
    "benchmark_df = pd.DataFrame(model_benchmarks)\n",
    "\n",
    "# sort in ascending order of num_model_params column\n",
    "benchmark_df.sort_values('num_model_params', inplace=True)\n",
    "\n",
    "# write results to csv file\n",
    "benchmark_df.to_csv('benchmark_df.csv', index=False)\n",
    "benchmark_df"
   ]
  },
  {
   "cell_type": "code",
   "execution_count": 43,
   "id": "875c1927",
   "metadata": {},
   "outputs": [
    {
     "data": {
      "image/png": "[encoded data removed]",
      "text/plain": [
       "<Figure size 504x360 with 1 Axes>"
      ]
     },
     "metadata": {
      "needs_background": "light"
     },
     "output_type": "display_data"
    }
   ],
   "source": [
    "\n",
    "# Loop over each row and plot the num_model_params vs validation_accuracy\n",
    "markers=[\".\",\",\",\"o\",\"v\",\"^\",\"<\",\">\",\"1\",\"2\",\"3\",\"4\",\"8\",\"s\",\"p\",\"P\",\"*\",\"h\",\"H\",\"+\",\"x\",\"X\",\"D\",\"d\",\"|\",\"_\",4,5,6,7,8,9,10,11]\n",
    "plt.figure(figsize=(7,5))\n",
    "\n",
    "for row in benchmark_df.itertuples():\n",
    "    plt.scatter(row.num_model_params, row.validation_accuracy, label=row.model_name, marker=markers[row.Index], s=150, linewidths=2)\n",
    "    \n",
    "plt.xscale('log')\n",
    "plt.xlabel('Number of Parameters in Model')\n",
    "plt.ylabel('Validation Accuracy after 3 Epochs')\n",
    "plt.title('Accuracy vs Model Size')\n",
    "\n",
    "# Move legend out of the plot\n",
    "plt.legend(bbox_to_anchor=(1, 1), loc='upper left');"
   ]
  },
  {
   "cell_type": "code",
   "execution_count": null,
   "id": "cadd9cb9",
   "metadata": {},
   "outputs": [],
   "source": []
  }
 ],
 "metadata": {
  "kernelspec": {
   "display_name": "Python 3 (ipykernel)",
   "language": "python",
   "name": "python3"
  },
  "language_info": {
   "codemirror_mode": {
    "name": "ipython",
    "version": 3
   },
   "file_extension": ".py",
   "mimetype": "text/x-python",
   "name": "python",
   "nbconvert_exporter": "python",
   "pygments_lexer": "ipython3",
   "version": "3.9.7"
  }
 },
 "nbformat": 4,
 "nbformat_minor": 5
}
